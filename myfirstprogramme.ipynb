{
  "nbformat": 4,
  "nbformat_minor": 0,
  "metadata": {
    "colab": {
      "name": "myfirstprogramme.ipynb",
      "provenance": [],
      "authorship_tag": "ABX9TyOMrCvORPnbLHYMtFNSWnC/",
      "include_colab_link": true
    },
    "kernelspec": {
      "name": "python3",
      "display_name": "Python 3"
    },
    "language_info": {
      "name": "python"
    }
  },
  "cells": [
    {
      "cell_type": "markdown",
      "metadata": {
        "id": "view-in-github",
        "colab_type": "text"
      },
      "source": [
        "<a href=\"https://colab.research.google.com/github/Dhyanpat12/Codegeeko-data-science-course/blob/main/myfirstprogramme.ipynb\" target=\"_parent\"><img src=\"https://colab.research.google.com/assets/colab-badge.svg\" alt=\"Open In Colab\"/></a>"
      ]
    },
    {
      "cell_type": "code",
      "execution_count": 2,
      "metadata": {
        "colab": {
          "base_uri": "https://localhost:8080/"
        },
        "id": "RP_1mZHlXNUH",
        "outputId": "d397eab8-5878-43e4-a261-8608ff3704dd"
      },
      "outputs": [
        {
          "output_type": "stream",
          "name": "stdout",
          "text": [
            "6050000\n"
          ]
        }
      ],
      "source": [
        "x = 50000\n",
        "b = 6000000\n",
        "print(x + b)"
      ]
    },
    {
      "cell_type": "code",
      "source": [
        "\n"
      ],
      "metadata": {
        "id": "wGfkVKaPXWpn"
      },
      "execution_count": null,
      "outputs": []
    }
  ]
}